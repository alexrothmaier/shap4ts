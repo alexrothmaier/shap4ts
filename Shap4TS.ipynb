{
 "cells": [
  {
   "cell_type": "markdown",
   "id": "08184b17",
   "metadata": {},
   "source": []
  },
  {
   "cell_type": "code",
   "execution_count": 42,
   "id": "ccfa4508",
   "metadata": {},
   "outputs": [
    {
     "name": "stderr",
     "output_type": "stream",
     "text": [
      "/Users/alexrothmaier/Desktop/Shap4TS/shapvenv/lib/python3.10/site-packages/shap/utils/_clustering.py:35: NumbaDeprecationWarning: The 'nopython' keyword argument was not supplied to the 'numba.jit' decorator. The implicit default value for this argument is currently False, but it will be changed to True in Numba 0.59.0. See https://numba.readthedocs.io/en/stable/reference/deprecation.html#deprecation-of-object-mode-fall-back-behaviour-when-using-jit for details.\n",
      "  def _pt_shuffle_rec(i, indexes, index_mask, partition_tree, M, pos):\n",
      "/Users/alexrothmaier/Desktop/Shap4TS/shapvenv/lib/python3.10/site-packages/shap/utils/_clustering.py:54: NumbaDeprecationWarning: The 'nopython' keyword argument was not supplied to the 'numba.jit' decorator. The implicit default value for this argument is currently False, but it will be changed to True in Numba 0.59.0. See https://numba.readthedocs.io/en/stable/reference/deprecation.html#deprecation-of-object-mode-fall-back-behaviour-when-using-jit for details.\n",
      "  def delta_minimization_order(all_masks, max_swap_size=100, num_passes=2):\n",
      "/Users/alexrothmaier/Desktop/Shap4TS/shapvenv/lib/python3.10/site-packages/shap/utils/_clustering.py:63: NumbaDeprecationWarning: The 'nopython' keyword argument was not supplied to the 'numba.jit' decorator. The implicit default value for this argument is currently False, but it will be changed to True in Numba 0.59.0. See https://numba.readthedocs.io/en/stable/reference/deprecation.html#deprecation-of-object-mode-fall-back-behaviour-when-using-jit for details.\n",
      "  def _reverse_window(order, start, length):\n",
      "/Users/alexrothmaier/Desktop/Shap4TS/shapvenv/lib/python3.10/site-packages/shap/utils/_clustering.py:69: NumbaDeprecationWarning: The 'nopython' keyword argument was not supplied to the 'numba.jit' decorator. The implicit default value for this argument is currently False, but it will be changed to True in Numba 0.59.0. See https://numba.readthedocs.io/en/stable/reference/deprecation.html#deprecation-of-object-mode-fall-back-behaviour-when-using-jit for details.\n",
      "  def _reverse_window_score_gain(masks, order, start, length):\n",
      "/Users/alexrothmaier/Desktop/Shap4TS/shapvenv/lib/python3.10/site-packages/shap/utils/_clustering.py:77: NumbaDeprecationWarning: The 'nopython' keyword argument was not supplied to the 'numba.jit' decorator. The implicit default value for this argument is currently False, but it will be changed to True in Numba 0.59.0. See https://numba.readthedocs.io/en/stable/reference/deprecation.html#deprecation-of-object-mode-fall-back-behaviour-when-using-jit for details.\n",
      "  def _mask_delta_score(m1, m2):\n",
      "/Users/alexrothmaier/Desktop/Shap4TS/shapvenv/lib/python3.10/site-packages/shap/links.py:5: NumbaDeprecationWarning: The 'nopython' keyword argument was not supplied to the 'numba.jit' decorator. The implicit default value for this argument is currently False, but it will be changed to True in Numba 0.59.0. See https://numba.readthedocs.io/en/stable/reference/deprecation.html#deprecation-of-object-mode-fall-back-behaviour-when-using-jit for details.\n",
      "  def identity(x):\n",
      "/Users/alexrothmaier/Desktop/Shap4TS/shapvenv/lib/python3.10/site-packages/shap/links.py:10: NumbaDeprecationWarning: The 'nopython' keyword argument was not supplied to the 'numba.jit' decorator. The implicit default value for this argument is currently False, but it will be changed to True in Numba 0.59.0. See https://numba.readthedocs.io/en/stable/reference/deprecation.html#deprecation-of-object-mode-fall-back-behaviour-when-using-jit for details.\n",
      "  def _identity_inverse(x):\n",
      "/Users/alexrothmaier/Desktop/Shap4TS/shapvenv/lib/python3.10/site-packages/shap/links.py:15: NumbaDeprecationWarning: The 'nopython' keyword argument was not supplied to the 'numba.jit' decorator. The implicit default value for this argument is currently False, but it will be changed to True in Numba 0.59.0. See https://numba.readthedocs.io/en/stable/reference/deprecation.html#deprecation-of-object-mode-fall-back-behaviour-when-using-jit for details.\n",
      "  def logit(x):\n",
      "/Users/alexrothmaier/Desktop/Shap4TS/shapvenv/lib/python3.10/site-packages/shap/links.py:20: NumbaDeprecationWarning: The 'nopython' keyword argument was not supplied to the 'numba.jit' decorator. The implicit default value for this argument is currently False, but it will be changed to True in Numba 0.59.0. See https://numba.readthedocs.io/en/stable/reference/deprecation.html#deprecation-of-object-mode-fall-back-behaviour-when-using-jit for details.\n",
      "  def _logit_inverse(x):\n",
      "/Users/alexrothmaier/Desktop/Shap4TS/shapvenv/lib/python3.10/site-packages/shap/utils/_masked_model.py:363: NumbaDeprecationWarning: The 'nopython' keyword argument was not supplied to the 'numba.jit' decorator. The implicit default value for this argument is currently False, but it will be changed to True in Numba 0.59.0. See https://numba.readthedocs.io/en/stable/reference/deprecation.html#deprecation-of-object-mode-fall-back-behaviour-when-using-jit for details.\n",
      "  def _build_fixed_single_output(averaged_outs, last_outs, outputs, batch_positions, varying_rows, num_varying_rows, link, linearizing_weights):\n",
      "/Users/alexrothmaier/Desktop/Shap4TS/shapvenv/lib/python3.10/site-packages/shap/utils/_masked_model.py:385: NumbaDeprecationWarning: The 'nopython' keyword argument was not supplied to the 'numba.jit' decorator. The implicit default value for this argument is currently False, but it will be changed to True in Numba 0.59.0. See https://numba.readthedocs.io/en/stable/reference/deprecation.html#deprecation-of-object-mode-fall-back-behaviour-when-using-jit for details.\n",
      "  def _build_fixed_multi_output(averaged_outs, last_outs, outputs, batch_positions, varying_rows, num_varying_rows, link, linearizing_weights):\n",
      "/Users/alexrothmaier/Desktop/Shap4TS/shapvenv/lib/python3.10/site-packages/shap/utils/_masked_model.py:428: NumbaDeprecationWarning: The 'nopython' keyword argument was not supplied to the 'numba.jit' decorator. The implicit default value for this argument is currently False, but it will be changed to True in Numba 0.59.0. See https://numba.readthedocs.io/en/stable/reference/deprecation.html#deprecation-of-object-mode-fall-back-behaviour-when-using-jit for details.\n",
      "  def _init_masks(cluster_matrix, M, indices_row_pos, indptr):\n",
      "/Users/alexrothmaier/Desktop/Shap4TS/shapvenv/lib/python3.10/site-packages/shap/utils/_masked_model.py:439: NumbaDeprecationWarning: The 'nopython' keyword argument was not supplied to the 'numba.jit' decorator. The implicit default value for this argument is currently False, but it will be changed to True in Numba 0.59.0. See https://numba.readthedocs.io/en/stable/reference/deprecation.html#deprecation-of-object-mode-fall-back-behaviour-when-using-jit for details.\n",
      "  def _rec_fill_masks(cluster_matrix, indices_row_pos, indptr, indices, M, ind):\n",
      "/Users/alexrothmaier/Desktop/Shap4TS/shapvenv/lib/python3.10/site-packages/shap/maskers/_tabular.py:186: NumbaDeprecationWarning: The 'nopython' keyword argument was not supplied to the 'numba.jit' decorator. The implicit default value for this argument is currently False, but it will be changed to True in Numba 0.59.0. See https://numba.readthedocs.io/en/stable/reference/deprecation.html#deprecation-of-object-mode-fall-back-behaviour-when-using-jit for details.\n",
      "  def _single_delta_mask(dind, masked_inputs, last_mask, data, x, noop_code):\n",
      "/Users/alexrothmaier/Desktop/Shap4TS/shapvenv/lib/python3.10/site-packages/shap/maskers/_tabular.py:197: NumbaDeprecationWarning: The 'nopython' keyword argument was not supplied to the 'numba.jit' decorator. The implicit default value for this argument is currently False, but it will be changed to True in Numba 0.59.0. See https://numba.readthedocs.io/en/stable/reference/deprecation.html#deprecation-of-object-mode-fall-back-behaviour-when-using-jit for details.\n",
      "  def _delta_masking(masks, x, curr_delta_inds, varying_rows_out,\n",
      "/Users/alexrothmaier/Desktop/Shap4TS/shapvenv/lib/python3.10/site-packages/shap/maskers/_image.py:175: NumbaDeprecationWarning: The 'nopython' keyword argument was not supplied to the 'numba.jit' decorator. The implicit default value for this argument is currently False, but it will be changed to True in Numba 0.59.0. See https://numba.readthedocs.io/en/stable/reference/deprecation.html#deprecation-of-object-mode-fall-back-behaviour-when-using-jit for details.\n",
      "  def _jit_build_partition_tree(xmin, xmax, ymin, ymax, zmin, zmax, total_ywidth, total_zwidth, M, clustering, q):\n"
     ]
    },
    {
     "name": "stderr",
     "output_type": "stream",
     "text": [
      "/Users/alexrothmaier/Desktop/Shap4TS/shapvenv/lib/python3.10/site-packages/shap/explainers/_partition.py:676: NumbaDeprecationWarning: The 'nopython' keyword argument was not supplied to the 'numba.jit' decorator. The implicit default value for this argument is currently False, but it will be changed to True in Numba 0.59.0. See https://numba.readthedocs.io/en/stable/reference/deprecation.html#deprecation-of-object-mode-fall-back-behaviour-when-using-jit for details.\n",
      "  def lower_credit(i, value, M, values, clustering):\n",
      "The 'nopython' keyword argument was not supplied to the 'numba.jit' decorator. The implicit default value for this argument is currently False, but it will be changed to True in Numba 0.59.0. See https://numba.readthedocs.io/en/stable/reference/deprecation.html#deprecation-of-object-mode-fall-back-behaviour-when-using-jit for details.\n",
      "The 'nopython' keyword argument was not supplied to the 'numba.jit' decorator. The implicit default value for this argument is currently False, but it will be changed to True in Numba 0.59.0. See https://numba.readthedocs.io/en/stable/reference/deprecation.html#deprecation-of-object-mode-fall-back-behaviour-when-using-jit for details.\n"
     ]
    }
   ],
   "source": [
    "import pandas as pd\n",
    "import lightning.pytorch as pl\n",
    "\n",
    "import numpy as np\n",
    "import pandas as pd\n",
    "import torch\n",
    "\n",
    "from pytorch_forecasting import Baseline, TemporalFusionTransformer, TimeSeriesDataSet\n",
    "from pytorch_forecasting.data import GroupNormalizer\n",
    "from pytorch_forecasting.metrics import CrossEntropy\n",
    "\n",
    "import shap"
   ]
  },
  {
   "cell_type": "code",
   "execution_count": 2,
   "id": "15344d48",
   "metadata": {},
   "outputs": [],
   "source": [
    "df = pd.read_csv(\"custom_df.csv\")\n",
    "df.rename(columns={\"clk\": \"click\"},inplace=True)\n",
    "df['age_level'] = df['age_level'].astype(str)"
   ]
  },
  {
   "cell_type": "code",
   "execution_count": 3,
   "id": "322a071f",
   "metadata": {},
   "outputs": [],
   "source": [
    "brand_mapping = {\n",
    "    98931: 'nike',\n",
    "    247789: 'adidas',\n",
    "    353787: 'puma',\n",
    "    342760: 'reebok',\n",
    "    82527: 'under armour',\n",
    "    234846: 'new balance',\n",
    "    143597: 'asics',\n",
    "    146115: 'converse',\n",
    "    454237: 'vans',\n",
    "    95766: 'fila'\n",
    "}\n",
    "df['brand'] = df['brand'].replace(brand_mapping)"
   ]
  },
  {
   "cell_type": "code",
   "execution_count": 4,
   "id": "06a7e58b",
   "metadata": {},
   "outputs": [
    {
     "data": {
      "text/plain": [
       "brand\n",
       "adidas          0.063273\n",
       "asics           0.066911\n",
       "converse        0.090563\n",
       "fila            0.070115\n",
       "new balance     0.076969\n",
       "nike            0.038973\n",
       "puma            0.053744\n",
       "reebok          0.053704\n",
       "under armour    0.112742\n",
       "vans            0.065295\n",
       "Name: click, dtype: float64"
      ]
     },
     "execution_count": 4,
     "metadata": {},
     "output_type": "execute_result"
    }
   ],
   "source": [
    "# Wie oft wird welche Brand durchschnittlich geklickt?\n",
    "df.groupby('brand')['click'].mean()"
   ]
  },
  {
   "cell_type": "code",
   "execution_count": 7,
   "id": "2c3bbba8",
   "metadata": {},
   "outputs": [
    {
     "data": {
      "text/plain": [
       "<Axes: >"
      ]
     },
     "execution_count": 7,
     "metadata": {},
     "output_type": "execute_result"
    },
    {
     "data": {
      "image/png": "[encoded data removed]",
      "text/plain": [
       "<Figure size 640x480 with 1 Axes>"
      ]
     },
     "metadata": {},
     "output_type": "display_data"
    }
   ],
   "source": [
    "# Wie oft hat jeder User durchschnittlich geklickt?\n",
    "df.groupby('user')['click'].mean().hist(bins=10)"
   ]
  },
  {
   "cell_type": "code",
   "execution_count": 10,
   "id": "2164c0b5",
   "metadata": {},
   "outputs": [
    {
     "data": {
      "text/plain": [
       "<Axes: >"
      ]
     },
     "execution_count": 10,
     "metadata": {},
     "output_type": "execute_result"
    },
    {
     "data": {
      "image/png": "[encoded data removed]",
      "text/plain": [
       "<Figure size 640x480 with 1 Axes>"
      ]
     },
     "metadata": {},
     "output_type": "display_data"
    }
   ],
   "source": [
    "df['user'].value_counts().hist(bins=10)"
   ]
  },
  {
   "cell_type": "markdown",
   "id": "2c9d68f4",
   "metadata": {},
   "source": [
    "- Viele Zeitschritte zwischendrin fehlen\n",
    "- Wenn wir nur User mit 11 konsekutiven timesteps drin lassen, fliegen fast alle raus. Unrealistisches Szenario.\n",
    "- Setze allow_missing_timesteps = True in TimeSeriesDataset\n"
   ]
  },
  {
   "cell_type": "code",
   "execution_count": 11,
   "id": "10a35fcb",
   "metadata": {},
   "outputs": [],
   "source": [
    "# Sonst akzeptiert pytorch_forecasting es nicht als kategorische Zielvariable\n",
    "df['click'] = df['click'].astype(str)"
   ]
  },
  {
   "cell_type": "code",
   "execution_count": 12,
   "id": "f1d6999b",
   "metadata": {},
   "outputs": [
    {
     "name": "stderr",
     "output_type": "stream",
     "text": [
      "/Users/alexrothmaier/Desktop/Shap4TS/shapvenv/lib/python3.10/site-packages/pytorch_forecasting/data/timeseries.py:571: UserWarning: Target scales will be only added for continous targets\n",
      "  warnings.warn(\"Target scales will be only added for continous targets\", UserWarning)\n",
      "/Users/alexrothmaier/Desktop/Shap4TS/shapvenv/lib/python3.10/site-packages/pytorch_forecasting/data/timeseries.py:1281: UserWarning: Min encoder length and/or min_prediction_idx and/or min prediction length and/or lags are too large for 7647 series/groups which therefore are not present in the dataset index. This means no predictions can be made for those series. First 10 removed groups: [{'__group_id__user': 220}, {'__group_id__user': 228}, {'__group_id__user': 325}, {'__group_id__user': 610}, {'__group_id__user': 638}, {'__group_id__user': 669}, {'__group_id__user': 726}, {'__group_id__user': 827}, {'__group_id__user': 848}, {'__group_id__user': 930}]\n",
      "  warnings.warn(\n"
     ]
    }
   ],
   "source": [
    "training = TimeSeriesDataSet(\n",
    "    df[lambda x: x.time_idx <= 10],\n",
    "    time_idx=\"time_idx\",\n",
    "    target=\"click\",\n",
    "    group_ids=[\"user\"],\n",
    "    \n",
    "    min_encoder_length=10,  # keep encoder length long (as it is in the validation set)\n",
    "    max_encoder_length=10,\n",
    "    min_prediction_length=1,\n",
    "    max_prediction_length=1,\n",
    "    \n",
    "    static_categoricals=[\"age_level\"],\n",
    "    time_varying_known_categoricals=[\"brand\"],\n",
    "    time_varying_known_reals=[\"time_idx\"],\n",
    "    time_varying_unknown_categoricals=[\"click\"],\n",
    "\n",
    "    add_relative_time_idx=True,\n",
    "    add_target_scales=True,\n",
    "    add_encoder_length=True,\n",
    "    \n",
    "    allow_missing_timesteps=True\n",
    ")"
   ]
  },
  {
   "cell_type": "markdown",
   "id": "7effc872",
   "metadata": {},
   "source": [
    "**-> User Warning zeigt uns hier, dass 7647 Einträge entfernt werden würden, weil Sie sich nicht mit einer Länge von 10 encodieren lassen. Reduziere min_length auf 1**"
   ]
  },
  {
   "cell_type": "code",
   "execution_count": 14,
   "id": "51938498",
   "metadata": {},
   "outputs": [
    {
     "name": "stderr",
     "output_type": "stream",
     "text": [
      "/Users/alexrothmaier/Desktop/Shap4TS/shapvenv/lib/python3.10/site-packages/pytorch_forecasting/data/timeseries.py:571: UserWarning: Target scales will be only added for continous targets\n",
      "  warnings.warn(\"Target scales will be only added for continous targets\", UserWarning)\n",
      "/Users/alexrothmaier/Desktop/Shap4TS/shapvenv/lib/python3.10/site-packages/pytorch_forecasting/data/timeseries.py:1281: UserWarning: Min encoder length and/or min_prediction_idx and/or min prediction length and/or lags are too large for 3455 series/groups which therefore are not present in the dataset index. This means no predictions can be made for those series. First 10 removed groups: [{'__group_id__user': 610}, {'__group_id__user': 726}, {'__group_id__user': 848}, {'__group_id__user': 930}, {'__group_id__user': 1242}, {'__group_id__user': 1860}, {'__group_id__user': 2636}, {'__group_id__user': 2676}, {'__group_id__user': 2804}, {'__group_id__user': 2914}]\n",
      "  warnings.warn(\n"
     ]
    }
   ],
   "source": [
    "training = TimeSeriesDataSet(\n",
    "    df[lambda x: x.time_idx <= 10],\n",
    "    time_idx=\"time_idx\",\n",
    "    target=\"click\",\n",
    "    group_ids=[\"user\"],\n",
    "    \n",
    "    min_encoder_length=1,  # keep encoder length long (as it is in the validation set)\n",
    "    max_encoder_length=10,\n",
    "    min_prediction_length=1,\n",
    "    max_prediction_length=1,\n",
    "    \n",
    "    static_categoricals=[\"age_level\"],\n",
    "    time_varying_known_categoricals=[\"brand\"],\n",
    "    time_varying_known_reals=[\"time_idx\"],\n",
    "    time_varying_unknown_categoricals=[\"click\"],\n",
    "\n",
    "    add_relative_time_idx=True,\n",
    "    add_target_scales=True,\n",
    "    add_encoder_length=True,\n",
    "    \n",
    "    allow_missing_timesteps=True\n",
    ")"
   ]
  },
  {
   "cell_type": "code",
   "execution_count": 21,
   "id": "7a5cef2e",
   "metadata": {},
   "outputs": [
    {
     "name": "stdout",
     "output_type": "stream",
     "text": [
      "3455\n"
     ]
    }
   ],
   "source": [
    "user_counts = df['user'].value_counts()\n",
    "\n",
    "users_with_one_occurrence = user_counts[user_counts == 1]\n",
    "\n",
    "num_users_with_one_occurrence = len(users_with_one_occurrence)\n",
    "\n",
    "print(num_users_with_one_occurrence)\n"
   ]
  },
  {
   "cell_type": "markdown",
   "id": "70677104",
   "metadata": {},
   "source": [
    "**Es gibt also 3455 die nur 1 timestep haben, hier können wir gar nicht encodieren. pytorch_forecasting entfernt uns diese laut Warning direkt**"
   ]
  },
  {
   "cell_type": "markdown",
   "id": "aa34d593",
   "metadata": {},
   "source": [
    "### Trainiere TFT Modell"
   ]
  },
  {
   "cell_type": "code",
   "execution_count": 27,
   "id": "a756b937",
   "metadata": {},
   "outputs": [
    {
     "name": "stderr",
     "output_type": "stream",
     "text": [
      "/Users/alexrothmaier/Desktop/Shap4TS/shapvenv/lib/python3.10/site-packages/pytorch_forecasting/data/timeseries.py:1281: UserWarning: Min encoder length and/or min_prediction_idx and/or min prediction length and/or lags are too large for 3455 series/groups which therefore are not present in the dataset index. This means no predictions can be made for those series. First 10 removed groups: [{'__group_id__user': 610}, {'__group_id__user': 726}, {'__group_id__user': 848}, {'__group_id__user': 930}, {'__group_id__user': 1242}, {'__group_id__user': 1860}, {'__group_id__user': 2636}, {'__group_id__user': 2676}, {'__group_id__user': 2804}, {'__group_id__user': 2914}]\n",
      "  warnings.warn(\n"
     ]
    }
   ],
   "source": [
    "# create validation set (predict=True) which means to predict the last max_prediction_length points in time\n",
    "# for each series\n",
    "validation = TimeSeriesDataSet.from_dataset(training, df, predict=True, stop_randomization=True)\n",
    "\n",
    "# create dataloaders for model\n",
    "batch_size = 16  # set this between 32 to 128\n",
    "train_dataloader = training.to_dataloader(train=True, batch_size=batch_size)\n",
    "val_dataloader = validation.to_dataloader(train=False, batch_size=batch_size)"
   ]
  },
  {
   "cell_type": "code",
   "execution_count": 28,
   "id": "58ba9ba9",
   "metadata": {},
   "outputs": [
    {
     "name": "stderr",
     "output_type": "stream",
     "text": [
      "/Users/alexrothmaier/Desktop/Shap4TS/shapvenv/lib/python3.10/site-packages/lightning/pytorch/utilities/parsing.py:197: UserWarning: Attribute 'loss' is an instance of `nn.Module` and is already saved during checkpointing. It is recommended to ignore them using `self.save_hyperparameters(ignore=['loss'])`.\n",
      "  rank_zero_warn(\n",
      "/Users/alexrothmaier/Desktop/Shap4TS/shapvenv/lib/python3.10/site-packages/lightning/pytorch/utilities/parsing.py:197: UserWarning: Attribute 'logging_metrics' is an instance of `nn.Module` and is already saved during checkpointing. It is recommended to ignore them using `self.save_hyperparameters(ignore=['logging_metrics'])`.\n",
      "  rank_zero_warn(\n"
     ]
    }
   ],
   "source": [
    "tft = TemporalFusionTransformer.from_dataset(\n",
    "    training,\n",
    "    # not meaningful for finding the learning rate but otherwise very important\n",
    "    learning_rate=0.03,\n",
    "    hidden_size=8,  # most important hyperparameter apart from learning rate\n",
    "    # number of attention heads. Set to up to 4 for large datasets\n",
    "    attention_head_size=1,\n",
    "    dropout=0.1,  # between 0.1 and 0.3 are good values\n",
    "    hidden_continuous_size=8,  # set to <= hidden_size\n",
    "    \n",
    "    \n",
    "    #TODO: Loss ändern\n",
    "    loss=CrossEntropy(),\n",
    "    optimizer=\"Ranger\"\n",
    "    # reduce learning rate if no improvement in validation loss after x epochs\n",
    "    # reduce_on_plateau_patience=1000,\n",
    ")"
   ]
  },
  {
   "cell_type": "code",
   "execution_count": 29,
   "id": "a830b1cb",
   "metadata": {},
   "outputs": [
    {
     "name": "stderr",
     "output_type": "stream",
     "text": [
      "Global seed set to 42\n",
      "GPU available: False, used: False\n",
      "TPU available: False, using: 0 TPU cores\n",
      "IPU available: False, using: 0 IPUs\n",
      "HPU available: False, using: 0 HPUs\n"
     ]
    }
   ],
   "source": [
    "# configure network and trainer\n",
    "pl.seed_everything(42)\n",
    "trainer = pl.Trainer(\n",
    "    accelerator=\"cpu\",\n",
    "    gradient_clip_val=0.1,\n",
    "    max_epochs=1\n",
    ")"
   ]
  },
  {
   "cell_type": "code",
   "execution_count": 30,
   "id": "d525350a",
   "metadata": {},
   "outputs": [
    {
     "name": "stderr",
     "output_type": "stream",
     "text": [
      "\n",
      "   | Name                               | Type                            | Params\n",
      "----------------------------------------------------------------------------------------\n",
      "0  | loss                               | CrossEntropy                    | 0     \n",
      "1  | logging_metrics                    | ModuleList                      | 0     \n",
      "2  | input_embeddings                   | MultiEmbedding                  | 97    \n",
      "3  | prescalers                         | ModuleDict                      | 48    \n",
      "4  | static_variable_selection          | VariableSelectionNetwork        | 400   \n",
      "5  | encoder_variable_selection         | VariableSelectionNetwork        | 896   \n",
      "6  | decoder_variable_selection         | VariableSelectionNetwork        | 808   \n",
      "7  | static_context_variable_selection  | GatedResidualNetwork            | 304   \n",
      "8  | static_context_initial_hidden_lstm | GatedResidualNetwork            | 304   \n",
      "9  | static_context_initial_cell_lstm   | GatedResidualNetwork            | 304   \n",
      "10 | static_context_enrichment          | GatedResidualNetwork            | 304   \n",
      "11 | lstm_encoder                       | LSTM                            | 576   \n",
      "12 | lstm_decoder                       | LSTM                            | 576   \n",
      "13 | post_lstm_gate_encoder             | GatedLinearUnit                 | 144   \n",
      "14 | post_lstm_add_norm_encoder         | AddNorm                         | 16    \n",
      "15 | static_enrichment                  | GatedResidualNetwork            | 368   \n",
      "16 | multihead_attn                     | InterpretableMultiHeadAttention | 280   \n",
      "17 | post_attn_gate_norm                | GateAddNorm                     | 160   \n",
      "18 | pos_wise_ff                        | GatedResidualNetwork            | 304   \n",
      "19 | pre_output_gate_norm               | GateAddNorm                     | 160   \n",
      "20 | output_layer                       | Linear                          | 18    \n",
      "----------------------------------------------------------------------------------------\n",
      "6.0 K     Trainable params\n",
      "0         Non-trainable params\n",
      "6.0 K     Total params\n",
      "0.024     Total estimated model params size (MB)\n"
     ]
    },
    {
     "name": "stdout",
     "output_type": "stream",
     "text": [
      "                                                                                "
     ]
    },
    {
     "name": "stderr",
     "output_type": "stream",
     "text": [
      "/Users/alexrothmaier/Desktop/Shap4TS/shapvenv/lib/python3.10/site-packages/lightning/pytorch/trainer/connectors/data_connector.py:430: PossibleUserWarning: The dataloader, val_dataloader, does not have many workers which may be a bottleneck. Consider increasing the value of the `num_workers` argument` (try 8 which is the number of cpus on this machine) in the `DataLoader` init to improve performance.\n",
      "  rank_zero_warn(\n",
      "/Users/alexrothmaier/Desktop/Shap4TS/shapvenv/lib/python3.10/site-packages/lightning/pytorch/trainer/connectors/data_connector.py:430: PossibleUserWarning: The dataloader, train_dataloader, does not have many workers which may be a bottleneck. Consider increasing the value of the `num_workers` argument` (try 8 which is the number of cpus on this machine) in the `DataLoader` init to improve performance.\n",
      "  rank_zero_warn(\n"
     ]
    },
    {
     "name": "stdout",
     "output_type": "stream",
     "text": [
      "Epoch 0: 100%|█| 951/951 [00:35<00:00, 26.90it/s, v_num=366, train_loss_step=0.2\n",
      "Validation: 0it [00:00, ?it/s]\u001b[A\n",
      "Validation:   0%|                                       | 0/318 [00:00<?, ?it/s]\u001b[A\n",
      "Validation DataLoader 0:   0%|                          | 0/318 [00:00<?, ?it/s]\u001b[A\n",
      "Validation DataLoader 0:   0%|                  | 1/318 [00:00<00:08, 36.69it/s]\u001b[A\n",
      "Validation DataLoader 0:   1%|                  | 2/318 [00:00<00:08, 37.57it/s]\u001b[A\n",
      "Validation DataLoader 0:   1%|▏                 | 3/318 [00:00<00:08, 38.96it/s]\u001b[A\n",
      "Validation DataLoader 0:   1%|▏                 | 4/318 [00:00<00:07, 40.46it/s]\u001b[A\n",
      "Validation DataLoader 0:   2%|▎                 | 5/318 [00:00<00:07, 40.88it/s]\u001b[A\n",
      "Validation DataLoader 0:   2%|▎                 | 6/318 [00:00<00:07, 41.45it/s]\u001b[A\n",
      "Validation DataLoader 0:   2%|▍                 | 7/318 [00:00<00:07, 39.97it/s]\u001b[A\n",
      "Validation DataLoader 0:   3%|▍                 | 8/318 [00:00<00:08, 38.63it/s]\u001b[A\n",
      "Validation DataLoader 0:   3%|▌                 | 9/318 [00:00<00:08, 38.41it/s]\u001b[A\n",
      "Validation DataLoader 0:   3%|▌                | 10/318 [00:00<00:07, 38.96it/s]\u001b[A\n",
      "Validation DataLoader 0:   3%|▌                | 11/318 [00:00<00:07, 39.49it/s]\u001b[A\n",
      "Validation DataLoader 0:   4%|▋                | 12/318 [00:00<00:07, 39.09it/s]\u001b[A\n",
      "Validation DataLoader 0:   4%|▋                | 13/318 [00:00<00:07, 38.87it/s]\u001b[A\n",
      "Validation DataLoader 0:   4%|▋                | 14/318 [00:00<00:07, 39.22it/s]\u001b[A\n",
      "Validation DataLoader 0:   5%|▊                | 15/318 [00:00<00:07, 39.56it/s]\u001b[A\n",
      "Validation DataLoader 0:   5%|▊                | 16/318 [00:00<00:07, 39.75it/s]\u001b[A\n",
      "Validation DataLoader 0:   5%|▉                | 17/318 [00:00<00:07, 39.69it/s]\u001b[A\n",
      "Validation DataLoader 0:   6%|▉                | 18/318 [00:00<00:07, 39.62it/s]\u001b[A\n",
      "Validation DataLoader 0:   6%|█                | 19/318 [00:00<00:07, 39.65it/s]\u001b[A\n",
      "Validation DataLoader 0:   6%|█                | 20/318 [00:00<00:07, 39.68it/s]\u001b[A\n",
      "Validation DataLoader 0:   7%|█                | 21/318 [00:00<00:07, 39.64it/s]\u001b[A\n",
      "Validation DataLoader 0:   7%|█▏               | 22/318 [00:00<00:07, 39.75it/s]\u001b[A\n",
      "Validation DataLoader 0:   7%|█▏               | 23/318 [00:00<00:07, 39.81it/s]\u001b[A\n",
      "Validation DataLoader 0:   8%|█▎               | 24/318 [00:00<00:07, 39.96it/s]\u001b[A\n",
      "Validation DataLoader 0:   8%|█▎               | 25/318 [00:00<00:07, 39.98it/s]\u001b[A\n",
      "Validation DataLoader 0:   8%|█▍               | 26/318 [00:00<00:07, 39.98it/s]\u001b[A\n",
      "Validation DataLoader 0:   8%|█▍               | 27/318 [00:00<00:07, 40.04it/s]\u001b[A\n",
      "Validation DataLoader 0:   9%|█▍               | 28/318 [00:00<00:07, 40.06it/s]\u001b[A\n",
      "Validation DataLoader 0:   9%|█▌               | 29/318 [00:00<00:07, 40.17it/s]\u001b[A\n",
      "Validation DataLoader 0:   9%|█▌               | 30/318 [00:00<00:07, 40.12it/s]\u001b[A\n",
      "Validation DataLoader 0:  10%|█▋               | 31/318 [00:00<00:07, 40.17it/s]\u001b[A\n",
      "Validation DataLoader 0:  10%|█▋               | 32/318 [00:00<00:07, 40.11it/s]\u001b[A\n",
      "Validation DataLoader 0:  10%|█▊               | 33/318 [00:00<00:07, 40.16it/s]\u001b[A\n",
      "Validation DataLoader 0:  11%|█▊               | 34/318 [00:00<00:07, 40.13it/s]\u001b[A\n",
      "Validation DataLoader 0:  11%|█▊               | 35/318 [00:00<00:07, 40.19it/s]\u001b[A\n",
      "Validation DataLoader 0:  11%|█▉               | 36/318 [00:00<00:07, 40.26it/s]\u001b[A\n",
      "Validation DataLoader 0:  12%|█▉               | 37/318 [00:00<00:06, 40.30it/s]\u001b[A\n",
      "Validation DataLoader 0:  12%|██               | 38/318 [00:00<00:06, 40.44it/s]\u001b[A\n",
      "Validation DataLoader 0:  12%|██               | 39/318 [00:00<00:06, 40.46it/s]\u001b[A\n",
      "Validation DataLoader 0:  13%|██▏              | 40/318 [00:00<00:06, 40.50it/s]\u001b[A\n",
      "Validation DataLoader 0:  13%|██▏              | 41/318 [00:01<00:06, 40.42it/s]\u001b[A\n",
      "Validation DataLoader 0:  13%|██▏              | 42/318 [00:01<00:06, 40.49it/s]\u001b[A\n",
      "Validation DataLoader 0:  14%|██▎              | 43/318 [00:01<00:06, 40.50it/s]\u001b[A\n",
      "Validation DataLoader 0:  14%|██▎              | 44/318 [00:01<00:06, 40.49it/s]\u001b[A\n",
      "Validation DataLoader 0:  14%|██▍              | 45/318 [00:01<00:06, 40.50it/s]\u001b[A\n",
      "Validation DataLoader 0:  14%|██▍              | 46/318 [00:01<00:06, 40.48it/s]\u001b[A\n",
      "Validation DataLoader 0:  15%|██▌              | 47/318 [00:01<00:06, 39.84it/s]\u001b[A\n",
      "Validation DataLoader 0:  15%|██▌              | 48/318 [00:01<00:06, 39.87it/s]\u001b[A\n",
      "Validation DataLoader 0:  15%|██▌              | 49/318 [00:01<00:06, 39.78it/s]\u001b[A\n",
      "Validation DataLoader 0:  16%|██▋              | 50/318 [00:01<00:06, 39.75it/s]\u001b[A\n",
      "Validation DataLoader 0:  16%|██▋              | 51/318 [00:01<00:06, 39.54it/s]\u001b[A\n",
      "Validation DataLoader 0:  16%|██▊              | 52/318 [00:01<00:06, 39.58it/s]\u001b[A\n",
      "Validation DataLoader 0:  17%|██▊              | 53/318 [00:01<00:06, 39.60it/s]\u001b[A\n",
      "Validation DataLoader 0:  17%|██▉              | 54/318 [00:01<00:06, 39.65it/s]\u001b[A\n",
      "Validation DataLoader 0:  17%|██▉              | 55/318 [00:01<00:06, 39.65it/s]\u001b[A\n",
      "Validation DataLoader 0:  18%|██▉              | 56/318 [00:01<00:06, 39.69it/s]\u001b[A\n",
      "Validation DataLoader 0:  18%|███              | 57/318 [00:01<00:06, 39.60it/s]\u001b[A\n",
      "Validation DataLoader 0:  18%|███              | 58/318 [00:01<00:06, 39.62it/s]\u001b[A\n",
      "Validation DataLoader 0:  19%|███▏             | 59/318 [00:01<00:06, 39.62it/s]\u001b[A\n",
      "Validation DataLoader 0:  19%|███▏             | 60/318 [00:01<00:06, 39.60it/s]\u001b[A\n",
      "Validation DataLoader 0:  19%|███▎             | 61/318 [00:01<00:06, 39.65it/s]\u001b[A\n",
      "Validation DataLoader 0:  19%|███▎             | 62/318 [00:01<00:06, 39.69it/s]\u001b[A\n",
      "Validation DataLoader 0:  20%|███▎             | 63/318 [00:01<00:06, 39.73it/s]\u001b[A\n",
      "Validation DataLoader 0:  20%|███▍             | 64/318 [00:01<00:06, 39.78it/s]\u001b[A\n",
      "Validation DataLoader 0:  20%|███▍             | 65/318 [00:01<00:06, 39.92it/s]\u001b[A\n",
      "Validation DataLoader 0:  21%|███▌             | 66/318 [00:01<00:06, 40.02it/s]\u001b[A\n",
      "Validation DataLoader 0:  21%|███▌             | 67/318 [00:01<00:06, 40.12it/s]\u001b[A\n",
      "Validation DataLoader 0:  21%|███▋             | 68/318 [00:01<00:06, 40.21it/s]\u001b[A\n",
      "Validation DataLoader 0:  22%|███▋             | 69/318 [00:01<00:06, 40.32it/s]\u001b[A\n",
      "Validation DataLoader 0:  22%|███▋             | 70/318 [00:01<00:06, 40.35it/s]\u001b[A\n",
      "Validation DataLoader 0:  22%|███▊             | 71/318 [00:01<00:06, 40.43it/s]\u001b[A\n",
      "Validation DataLoader 0:  23%|███▊             | 72/318 [00:01<00:06, 40.49it/s]\u001b[A\n",
      "Validation DataLoader 0:  23%|███▉             | 73/318 [00:01<00:06, 40.28it/s]\u001b[A\n",
      "Validation DataLoader 0:  23%|███▉             | 74/318 [00:01<00:06, 40.31it/s]\u001b[A\n",
      "Validation DataLoader 0:  24%|████             | 75/318 [00:01<00:06, 40.38it/s]\u001b[A\n",
      "Validation DataLoader 0:  24%|████             | 76/318 [00:01<00:05, 40.46it/s]\u001b[A\n",
      "Validation DataLoader 0:  24%|████             | 77/318 [00:01<00:05, 40.51it/s]\u001b[A\n",
      "Validation DataLoader 0:  25%|████▏            | 78/318 [00:01<00:05, 40.46it/s]\u001b[A\n",
      "Validation DataLoader 0:  25%|████▏            | 79/318 [00:01<00:05, 40.53it/s]\u001b[A\n",
      "Validation DataLoader 0:  25%|████▎            | 80/318 [00:01<00:05, 40.55it/s]\u001b[A\n",
      "Validation DataLoader 0:  25%|████▎            | 81/318 [00:01<00:05, 40.54it/s]\u001b[A\n",
      "Validation DataLoader 0:  26%|████▍            | 82/318 [00:02<00:05, 40.54it/s]\u001b[A\n",
      "Validation DataLoader 0:  26%|████▍            | 83/318 [00:02<00:05, 40.62it/s]\u001b[A\n",
      "Validation DataLoader 0:  26%|████▍            | 84/318 [00:02<00:05, 40.68it/s]\u001b[A\n",
      "Validation DataLoader 0:  27%|████▌            | 85/318 [00:02<00:05, 40.75it/s]\u001b[A\n",
      "Validation DataLoader 0:  27%|████▌            | 86/318 [00:02<00:05, 40.73it/s]\u001b[A\n",
      "Validation DataLoader 0:  27%|████▋            | 87/318 [00:02<00:05, 40.79it/s]\u001b[A\n",
      "Validation DataLoader 0:  28%|████▋            | 88/318 [00:02<00:05, 40.87it/s]\u001b[A\n",
      "Validation DataLoader 0:  28%|████▊            | 89/318 [00:02<00:05, 40.95it/s]\u001b[A\n",
      "Validation DataLoader 0:  28%|████▊            | 90/318 [00:02<00:05, 40.99it/s]\u001b[A\n",
      "Validation DataLoader 0:  29%|████▊            | 91/318 [00:02<00:05, 40.98it/s]\u001b[A\n",
      "Validation DataLoader 0:  29%|████▉            | 92/318 [00:02<00:05, 40.99it/s]\u001b[A\n",
      "Validation DataLoader 0:  29%|████▉            | 93/318 [00:02<00:05, 41.06it/s]\u001b[A\n",
      "Validation DataLoader 0:  30%|█████            | 94/318 [00:02<00:05, 41.11it/s]\u001b[A\n"
     ]
    },
    {
     "name": "stdout",
     "output_type": "stream",
     "text": [
      "Validation DataLoader 0:  30%|█████            | 95/318 [00:02<00:05, 41.18it/s]\u001b[A\n",
      "Validation DataLoader 0:  30%|█████▏           | 96/318 [00:02<00:05, 41.21it/s]\u001b[A\n",
      "Validation DataLoader 0:  31%|█████▏           | 97/318 [00:02<00:05, 41.24it/s]\u001b[A\n",
      "Validation DataLoader 0:  31%|█████▏           | 98/318 [00:02<00:05, 41.30it/s]\u001b[A\n",
      "Validation DataLoader 0:  31%|█████▎           | 99/318 [00:02<00:05, 41.35it/s]\u001b[A\n",
      "Validation DataLoader 0:  31%|█████           | 100/318 [00:02<00:05, 41.40it/s]\u001b[A\n",
      "Validation DataLoader 0:  32%|█████           | 101/318 [00:02<00:05, 41.44it/s]\u001b[A\n",
      "Validation DataLoader 0:  32%|█████▏          | 102/318 [00:02<00:05, 41.47it/s]\u001b[A\n",
      "Validation DataLoader 0:  32%|█████▏          | 103/318 [00:02<00:05, 41.51it/s]\u001b[A\n",
      "Validation DataLoader 0:  33%|█████▏          | 104/318 [00:02<00:05, 41.58it/s]\u001b[A\n",
      "Validation DataLoader 0:  33%|█████▎          | 105/318 [00:02<00:05, 41.63it/s]\u001b[A\n",
      "Validation DataLoader 0:  33%|█████▎          | 106/318 [00:02<00:05, 41.69it/s]\u001b[A\n",
      "Validation DataLoader 0:  34%|█████▍          | 107/318 [00:02<00:05, 41.75it/s]\u001b[A\n",
      "Validation DataLoader 0:  34%|█████▍          | 108/318 [00:02<00:05, 41.82it/s]\u001b[A\n",
      "Validation DataLoader 0:  34%|█████▍          | 109/318 [00:02<00:04, 41.88it/s]\u001b[A\n",
      "Validation DataLoader 0:  35%|█████▌          | 110/318 [00:02<00:04, 41.93it/s]\u001b[A\n",
      "Validation DataLoader 0:  35%|█████▌          | 111/318 [00:02<00:04, 41.97it/s]\u001b[A\n",
      "Validation DataLoader 0:  35%|█████▋          | 112/318 [00:02<00:04, 42.00it/s]\u001b[A\n",
      "Validation DataLoader 0:  36%|█████▋          | 113/318 [00:02<00:04, 42.01it/s]\u001b[A\n",
      "Validation DataLoader 0:  36%|█████▋          | 114/318 [00:02<00:04, 42.04it/s]\u001b[A\n",
      "Validation DataLoader 0:  36%|█████▊          | 115/318 [00:02<00:04, 42.09it/s]\u001b[A\n",
      "Validation DataLoader 0:  36%|█████▊          | 116/318 [00:02<00:04, 42.11it/s]\u001b[A\n",
      "Validation DataLoader 0:  37%|█████▉          | 117/318 [00:02<00:04, 42.15it/s]\u001b[A\n",
      "Validation DataLoader 0:  37%|█████▉          | 118/318 [00:02<00:04, 42.17it/s]\u001b[A\n",
      "Validation DataLoader 0:  37%|█████▉          | 119/318 [00:02<00:04, 42.20it/s]\u001b[A\n",
      "Validation DataLoader 0:  38%|██████          | 120/318 [00:02<00:04, 42.23it/s]\u001b[A\n",
      "Validation DataLoader 0:  38%|██████          | 121/318 [00:02<00:04, 42.28it/s]\u001b[A\n",
      "Validation DataLoader 0:  38%|██████▏         | 122/318 [00:02<00:04, 42.32it/s]\u001b[A\n",
      "Validation DataLoader 0:  39%|██████▏         | 123/318 [00:02<00:04, 42.35it/s]\u001b[A\n",
      "Validation DataLoader 0:  39%|██████▏         | 124/318 [00:02<00:04, 42.36it/s]\u001b[A\n",
      "Validation DataLoader 0:  39%|██████▎         | 125/318 [00:02<00:04, 42.38it/s]\u001b[A\n",
      "Validation DataLoader 0:  40%|██████▎         | 126/318 [00:02<00:04, 42.37it/s]\u001b[A\n",
      "Validation DataLoader 0:  40%|██████▍         | 127/318 [00:02<00:04, 42.37it/s]\u001b[A\n",
      "Validation DataLoader 0:  40%|██████▍         | 128/318 [00:03<00:04, 42.35it/s]\u001b[A\n",
      "Validation DataLoader 0:  41%|██████▍         | 129/318 [00:03<00:04, 42.39it/s]\u001b[A\n",
      "Validation DataLoader 0:  41%|██████▌         | 130/318 [00:03<00:04, 42.38it/s]\u001b[A\n",
      "Validation DataLoader 0:  41%|██████▌         | 131/318 [00:03<00:04, 42.39it/s]\u001b[A\n",
      "Validation DataLoader 0:  42%|██████▋         | 132/318 [00:03<00:04, 42.42it/s]\u001b[A\n",
      "Validation DataLoader 0:  42%|██████▋         | 133/318 [00:03<00:04, 42.45it/s]\u001b[A\n",
      "Validation DataLoader 0:  42%|██████▋         | 134/318 [00:03<00:04, 42.49it/s]\u001b[A\n",
      "Validation DataLoader 0:  42%|██████▊         | 135/318 [00:03<00:04, 42.47it/s]\u001b[A\n",
      "Validation DataLoader 0:  43%|██████▊         | 136/318 [00:03<00:04, 42.49it/s]\u001b[A\n",
      "Validation DataLoader 0:  43%|██████▉         | 137/318 [00:03<00:04, 42.49it/s]\u001b[A\n",
      "Validation DataLoader 0:  43%|██████▉         | 138/318 [00:03<00:04, 42.50it/s]\u001b[A\n",
      "Validation DataLoader 0:  44%|██████▉         | 139/318 [00:03<00:04, 42.54it/s]\u001b[A\n",
      "Validation DataLoader 0:  44%|███████         | 140/318 [00:03<00:04, 42.52it/s]\u001b[A\n",
      "Validation DataLoader 0:  44%|███████         | 141/318 [00:03<00:04, 42.53it/s]\u001b[A\n",
      "Validation DataLoader 0:  45%|███████▏        | 142/318 [00:03<00:04, 42.54it/s]\u001b[A\n",
      "Validation DataLoader 0:  45%|███████▏        | 143/318 [00:03<00:04, 42.58it/s]\u001b[A\n",
      "Validation DataLoader 0:  45%|███████▏        | 144/318 [00:03<00:04, 42.59it/s]\u001b[A\n",
      "Validation DataLoader 0:  46%|███████▎        | 145/318 [00:03<00:04, 42.61it/s]\u001b[A\n",
      "Validation DataLoader 0:  46%|███████▎        | 146/318 [00:03<00:04, 42.59it/s]\u001b[A\n",
      "Validation DataLoader 0:  46%|███████▍        | 147/318 [00:03<00:04, 42.61it/s]\u001b[A\n",
      "Validation DataLoader 0:  47%|███████▍        | 148/318 [00:03<00:03, 42.63it/s]\u001b[A\n",
      "Validation DataLoader 0:  47%|███████▍        | 149/318 [00:03<00:03, 42.65it/s]\u001b[A\n",
      "Validation DataLoader 0:  47%|███████▌        | 150/318 [00:03<00:03, 42.67it/s]\u001b[A\n",
      "Validation DataLoader 0:  47%|███████▌        | 151/318 [00:03<00:03, 42.66it/s]\u001b[A\n",
      "Validation DataLoader 0:  48%|███████▋        | 152/318 [00:03<00:03, 42.64it/s]\u001b[A\n",
      "Validation DataLoader 0:  48%|███████▋        | 153/318 [00:03<00:03, 42.63it/s]\u001b[A\n",
      "Validation DataLoader 0:  48%|███████▋        | 154/318 [00:03<00:03, 42.66it/s]\u001b[A\n",
      "Validation DataLoader 0:  49%|███████▊        | 155/318 [00:03<00:03, 42.65it/s]\u001b[A\n",
      "Validation DataLoader 0:  49%|███████▊        | 156/318 [00:03<00:03, 42.68it/s]\u001b[A\n",
      "Validation DataLoader 0:  49%|███████▉        | 157/318 [00:03<00:03, 42.71it/s]\u001b[A\n",
      "Validation DataLoader 0:  50%|███████▉        | 158/318 [00:03<00:03, 42.73it/s]\u001b[A\n",
      "Validation DataLoader 0:  50%|████████        | 159/318 [00:03<00:03, 42.78it/s]\u001b[A\n",
      "Validation DataLoader 0:  50%|████████        | 160/318 [00:03<00:03, 42.81it/s]\u001b[A\n",
      "Validation DataLoader 0:  51%|████████        | 161/318 [00:03<00:03, 42.84it/s]\u001b[A\n",
      "Validation DataLoader 0:  51%|████████▏       | 162/318 [00:03<00:03, 42.86it/s]\u001b[A\n",
      "Validation DataLoader 0:  51%|████████▏       | 163/318 [00:03<00:03, 42.88it/s]\u001b[A\n",
      "Validation DataLoader 0:  52%|████████▎       | 164/318 [00:03<00:03, 42.89it/s]\u001b[A\n",
      "Validation DataLoader 0:  52%|████████▎       | 165/318 [00:03<00:03, 42.85it/s]\u001b[A\n",
      "Validation DataLoader 0:  52%|████████▎       | 166/318 [00:03<00:03, 42.76it/s]\u001b[A\n",
      "Validation DataLoader 0:  53%|████████▍       | 167/318 [00:03<00:03, 42.52it/s]\u001b[A\n",
      "Validation DataLoader 0:  53%|████████▍       | 168/318 [00:03<00:03, 42.51it/s]\u001b[A\n",
      "Validation DataLoader 0:  53%|████████▌       | 169/318 [00:03<00:03, 42.44it/s]\u001b[A\n",
      "Validation DataLoader 0:  53%|████████▌       | 170/318 [00:04<00:03, 42.46it/s]\u001b[A\n",
      "Validation DataLoader 0:  54%|████████▌       | 171/318 [00:04<00:03, 42.47it/s]\u001b[A\n",
      "Validation DataLoader 0:  54%|████████▋       | 172/318 [00:04<00:03, 42.50it/s]\u001b[A\n",
      "Validation DataLoader 0:  54%|████████▋       | 173/318 [00:04<00:03, 42.54it/s]\u001b[A\n",
      "Validation DataLoader 0:  55%|████████▊       | 174/318 [00:04<00:03, 42.57it/s]\u001b[A\n",
      "Validation DataLoader 0:  55%|████████▊       | 175/318 [00:04<00:03, 42.60it/s]\u001b[A\n",
      "Validation DataLoader 0:  55%|████████▊       | 176/318 [00:04<00:03, 42.62it/s]\u001b[A\n",
      "Validation DataLoader 0:  56%|████████▉       | 177/318 [00:04<00:03, 42.66it/s]\u001b[A\n",
      "Validation DataLoader 0:  56%|████████▉       | 178/318 [00:04<00:03, 42.69it/s]\u001b[A\n",
      "Validation DataLoader 0:  56%|█████████       | 179/318 [00:04<00:03, 42.72it/s]\u001b[A\n",
      "Validation DataLoader 0:  57%|█████████       | 180/318 [00:04<00:03, 42.75it/s]\u001b[A\n",
      "Validation DataLoader 0:  57%|█████████       | 181/318 [00:04<00:03, 42.70it/s]\u001b[A\n",
      "Validation DataLoader 0:  57%|█████████▏      | 182/318 [00:04<00:03, 42.71it/s]\u001b[A\n",
      "Validation DataLoader 0:  58%|█████████▏      | 183/318 [00:04<00:03, 42.71it/s]\u001b[A\n",
      "Validation DataLoader 0:  58%|█████████▎      | 184/318 [00:04<00:03, 42.56it/s]\u001b[A\n",
      "Validation DataLoader 0:  58%|█████████▎      | 185/318 [00:04<00:03, 42.57it/s]\u001b[A\n",
      "Validation DataLoader 0:  58%|█████████▎      | 186/318 [00:04<00:03, 42.58it/s]\u001b[A\n",
      "Validation DataLoader 0:  59%|█████████▍      | 187/318 [00:04<00:03, 42.60it/s]\u001b[A\n",
      "Validation DataLoader 0:  59%|█████████▍      | 188/318 [00:04<00:03, 42.59it/s]\u001b[A\n",
      "Validation DataLoader 0:  59%|█████████▌      | 189/318 [00:04<00:03, 42.60it/s]\u001b[A\n",
      "Validation DataLoader 0:  60%|█████████▌      | 190/318 [00:04<00:03, 42.60it/s]\u001b[A\n",
      "Validation DataLoader 0:  60%|█████████▌      | 191/318 [00:04<00:02, 42.62it/s]\u001b[A\n"
     ]
    },
    {
     "name": "stdout",
     "output_type": "stream",
     "text": [
      "Validation DataLoader 0:  60%|█████████▋      | 192/318 [00:04<00:02, 42.66it/s]\u001b[A\n",
      "Validation DataLoader 0:  61%|█████████▋      | 193/318 [00:04<00:02, 42.68it/s]\u001b[A\n",
      "Validation DataLoader 0:  61%|█████████▊      | 194/318 [00:04<00:02, 42.71it/s]\u001b[A\n",
      "Validation DataLoader 0:  61%|█████████▊      | 195/318 [00:04<00:02, 42.67it/s]\u001b[A\n",
      "Validation DataLoader 0:  62%|█████████▊      | 196/318 [00:04<00:02, 42.70it/s]\u001b[A\n",
      "Validation DataLoader 0:  62%|█████████▉      | 197/318 [00:04<00:02, 42.72it/s]\u001b[A\n",
      "Validation DataLoader 0:  62%|█████████▉      | 198/318 [00:04<00:02, 42.74it/s]\u001b[A\n",
      "Validation DataLoader 0:  63%|██████████      | 199/318 [00:04<00:02, 42.77it/s]\u001b[A\n",
      "Validation DataLoader 0:  63%|██████████      | 200/318 [00:04<00:02, 42.79it/s]\u001b[A\n",
      "Validation DataLoader 0:  63%|██████████      | 201/318 [00:04<00:02, 42.81it/s]\u001b[A\n",
      "Validation DataLoader 0:  64%|██████████▏     | 202/318 [00:04<00:02, 42.81it/s]\u001b[A\n",
      "Validation DataLoader 0:  64%|██████████▏     | 203/318 [00:04<00:02, 42.83it/s]\u001b[A\n",
      "Validation DataLoader 0:  64%|██████████▎     | 204/318 [00:04<00:02, 42.84it/s]\u001b[A\n",
      "Validation DataLoader 0:  64%|██████████▎     | 205/318 [00:04<00:02, 42.85it/s]\u001b[A\n",
      "Validation DataLoader 0:  65%|██████████▎     | 206/318 [00:04<00:02, 42.84it/s]\u001b[A\n",
      "Validation DataLoader 0:  65%|██████████▍     | 207/318 [00:04<00:02, 42.84it/s]\u001b[A\n",
      "Validation DataLoader 0:  65%|██████████▍     | 208/318 [00:04<00:02, 42.86it/s]\u001b[A\n",
      "Validation DataLoader 0:  66%|██████████▌     | 209/318 [00:04<00:02, 42.88it/s]\u001b[A\n",
      "Validation DataLoader 0:  66%|██████████▌     | 210/318 [00:04<00:02, 42.88it/s]\u001b[A\n",
      "Validation DataLoader 0:  66%|██████████▌     | 211/318 [00:04<00:02, 42.90it/s]\u001b[A\n",
      "Validation DataLoader 0:  67%|██████████▋     | 212/318 [00:04<00:02, 42.92it/s]\u001b[A\n",
      "Validation DataLoader 0:  67%|██████████▋     | 213/318 [00:04<00:02, 42.90it/s]\u001b[A\n",
      "Validation DataLoader 0:  67%|██████████▊     | 214/318 [00:04<00:02, 42.90it/s]\u001b[A\n",
      "Validation DataLoader 0:  68%|██████████▊     | 215/318 [00:05<00:02, 42.91it/s]\u001b[A\n",
      "Validation DataLoader 0:  68%|██████████▊     | 216/318 [00:05<00:02, 42.94it/s]\u001b[A\n",
      "Validation DataLoader 0:  68%|██████████▉     | 217/318 [00:05<00:02, 42.97it/s]\u001b[A\n",
      "Validation DataLoader 0:  69%|██████████▉     | 218/318 [00:05<00:02, 42.97it/s]\u001b[A\n",
      "Validation DataLoader 0:  69%|███████████     | 219/318 [00:05<00:02, 42.99it/s]\u001b[A\n",
      "Validation DataLoader 0:  69%|███████████     | 220/318 [00:05<00:02, 43.01it/s]\u001b[A\n",
      "Validation DataLoader 0:  69%|███████████     | 221/318 [00:05<00:02, 43.04it/s]\u001b[A\n",
      "Validation DataLoader 0:  70%|███████████▏    | 222/318 [00:05<00:02, 43.06it/s]\u001b[A\n",
      "Validation DataLoader 0:  70%|███████████▏    | 223/318 [00:05<00:02, 43.04it/s]\u001b[A\n",
      "Validation DataLoader 0:  70%|███████████▎    | 224/318 [00:05<00:02, 43.05it/s]\u001b[A\n",
      "Validation DataLoader 0:  71%|███████████▎    | 225/318 [00:05<00:02, 43.06it/s]\u001b[A\n",
      "Validation DataLoader 0:  71%|███████████▎    | 226/318 [00:05<00:02, 43.08it/s]\u001b[A\n",
      "Validation DataLoader 0:  71%|███████████▍    | 227/318 [00:05<00:02, 43.09it/s]\u001b[A\n",
      "Validation DataLoader 0:  72%|███████████▍    | 228/318 [00:05<00:02, 43.12it/s]\u001b[A\n",
      "Validation DataLoader 0:  72%|███████████▌    | 229/318 [00:05<00:02, 43.10it/s]\u001b[A\n",
      "Validation DataLoader 0:  72%|███████████▌    | 230/318 [00:05<00:02, 43.12it/s]\u001b[A\n",
      "Validation DataLoader 0:  73%|███████████▌    | 231/318 [00:05<00:02, 43.10it/s]\u001b[A\n",
      "Validation DataLoader 0:  73%|███████████▋    | 232/318 [00:05<00:01, 43.07it/s]\u001b[A\n",
      "Validation DataLoader 0:  73%|███████████▋    | 233/318 [00:05<00:01, 43.09it/s]\u001b[A\n",
      "Validation DataLoader 0:  74%|███████████▊    | 234/318 [00:05<00:01, 43.12it/s]\u001b[A\n",
      "Validation DataLoader 0:  74%|███████████▊    | 235/318 [00:05<00:01, 43.15it/s]\u001b[A\n",
      "Validation DataLoader 0:  74%|███████████▊    | 236/318 [00:05<00:01, 43.16it/s]\u001b[A\n",
      "Validation DataLoader 0:  75%|███████████▉    | 237/318 [00:05<00:01, 43.17it/s]\u001b[A\n",
      "Validation DataLoader 0:  75%|███████████▉    | 238/318 [00:05<00:01, 43.20it/s]\u001b[A\n",
      "Validation DataLoader 0:  75%|████████████    | 239/318 [00:05<00:01, 43.22it/s]\u001b[A\n",
      "Validation DataLoader 0:  75%|████████████    | 240/318 [00:05<00:01, 43.17it/s]\u001b[A\n",
      "Validation DataLoader 0:  76%|████████████▏   | 241/318 [00:05<00:01, 43.20it/s]\u001b[A\n",
      "Validation DataLoader 0:  76%|████████████▏   | 242/318 [00:05<00:01, 43.21it/s]\u001b[A\n",
      "Validation DataLoader 0:  76%|████████████▏   | 243/318 [00:05<00:01, 43.23it/s]\u001b[A\n",
      "Validation DataLoader 0:  77%|████████████▎   | 244/318 [00:05<00:01, 43.23it/s]\u001b[A\n",
      "Validation DataLoader 0:  77%|████████████▎   | 245/318 [00:05<00:01, 43.25it/s]\u001b[A\n",
      "Validation DataLoader 0:  77%|████████████▍   | 246/318 [00:05<00:01, 43.27it/s]\u001b[A\n",
      "Validation DataLoader 0:  78%|████████████▍   | 247/318 [00:05<00:01, 43.29it/s]\u001b[A\n",
      "Validation DataLoader 0:  78%|████████████▍   | 248/318 [00:05<00:01, 43.26it/s]\u001b[A\n",
      "Validation DataLoader 0:  78%|████████████▌   | 249/318 [00:05<00:01, 43.20it/s]\u001b[A\n",
      "Validation DataLoader 0:  79%|████████████▌   | 250/318 [00:05<00:01, 43.16it/s]\u001b[A\n",
      "Validation DataLoader 0:  79%|████████████▋   | 251/318 [00:05<00:01, 43.10it/s]\u001b[A\n",
      "Validation DataLoader 0:  79%|████████████▋   | 252/318 [00:05<00:01, 43.08it/s]\u001b[A\n",
      "Validation DataLoader 0:  80%|████████████▋   | 253/318 [00:05<00:01, 43.08it/s]\u001b[A\n",
      "Validation DataLoader 0:  80%|████████████▊   | 254/318 [00:05<00:01, 43.09it/s]\u001b[A\n",
      "Validation DataLoader 0:  80%|████████████▊   | 255/318 [00:05<00:01, 43.11it/s]\u001b[A\n",
      "Validation DataLoader 0:  81%|████████████▉   | 256/318 [00:05<00:01, 43.06it/s]\u001b[A\n",
      "Validation DataLoader 0:  81%|████████████▉   | 257/318 [00:05<00:01, 43.03it/s]\u001b[A\n",
      "Validation DataLoader 0:  81%|████████████▉   | 258/318 [00:05<00:01, 43.05it/s]\u001b[A\n",
      "Validation DataLoader 0:  81%|█████████████   | 259/318 [00:06<00:01, 43.07it/s]\u001b[A\n",
      "Validation DataLoader 0:  82%|█████████████   | 260/318 [00:06<00:01, 43.07it/s]\u001b[A\n",
      "Validation DataLoader 0:  82%|█████████████▏  | 261/318 [00:06<00:01, 43.08it/s]\u001b[A\n",
      "Validation DataLoader 0:  82%|█████████████▏  | 262/318 [00:06<00:01, 43.10it/s]\u001b[A\n",
      "Validation DataLoader 0:  83%|█████████████▏  | 263/318 [00:06<00:01, 43.12it/s]\u001b[A\n",
      "Validation DataLoader 0:  83%|█████████████▎  | 264/318 [00:06<00:01, 43.14it/s]\u001b[A\n",
      "Validation DataLoader 0:  83%|█████████████▎  | 265/318 [00:06<00:01, 43.16it/s]\u001b[A\n",
      "Validation DataLoader 0:  84%|█████████████▍  | 266/318 [00:06<00:01, 43.18it/s]\u001b[A\n",
      "Validation DataLoader 0:  84%|█████████████▍  | 267/318 [00:06<00:01, 43.20it/s]\u001b[A\n",
      "Validation DataLoader 0:  84%|█████████████▍  | 268/318 [00:06<00:01, 43.20it/s]\u001b[A\n",
      "Validation DataLoader 0:  85%|█████████████▌  | 269/318 [00:06<00:01, 43.20it/s]\u001b[A\n",
      "Validation DataLoader 0:  85%|█████████████▌  | 270/318 [00:06<00:01, 43.21it/s]\u001b[A\n",
      "Validation DataLoader 0:  85%|█████████████▋  | 271/318 [00:06<00:01, 43.21it/s]\u001b[A\n",
      "Validation DataLoader 0:  86%|█████████████▋  | 272/318 [00:06<00:01, 43.19it/s]\u001b[A\n",
      "Validation DataLoader 0:  86%|█████████████▋  | 273/318 [00:06<00:01, 43.17it/s]\u001b[A\n",
      "Validation DataLoader 0:  86%|█████████████▊  | 274/318 [00:06<00:01, 43.18it/s]\u001b[A\n",
      "Validation DataLoader 0:  86%|█████████████▊  | 275/318 [00:06<00:00, 43.20it/s]\u001b[A\n",
      "Validation DataLoader 0:  87%|█████████████▉  | 276/318 [00:06<00:00, 43.21it/s]\u001b[A\n",
      "Validation DataLoader 0:  87%|█████████████▉  | 277/318 [00:06<00:00, 43.22it/s]\u001b[A\n",
      "Validation DataLoader 0:  87%|█████████████▉  | 278/318 [00:06<00:00, 43.23it/s]\u001b[A\n",
      "Validation DataLoader 0:  88%|██████████████  | 279/318 [00:06<00:00, 43.22it/s]\u001b[A\n",
      "Validation DataLoader 0:  88%|██████████████  | 280/318 [00:06<00:00, 43.25it/s]\u001b[A\n",
      "Validation DataLoader 0:  88%|██████████████▏ | 281/318 [00:06<00:00, 43.24it/s]\u001b[A\n",
      "Validation DataLoader 0:  89%|██████████████▏ | 282/318 [00:06<00:00, 43.26it/s]\u001b[A\n",
      "Validation DataLoader 0:  89%|██████████████▏ | 283/318 [00:06<00:00, 43.28it/s]\u001b[A\n",
      "Validation DataLoader 0:  89%|██████████████▎ | 284/318 [00:06<00:00, 43.29it/s]\u001b[A\n",
      "Validation DataLoader 0:  90%|██████████████▎ | 285/318 [00:06<00:00, 43.30it/s]\u001b[A\n",
      "Validation DataLoader 0:  90%|██████████████▍ | 286/318 [00:06<00:00, 43.32it/s]\u001b[A\n",
      "Validation DataLoader 0:  90%|██████████████▍ | 287/318 [00:06<00:00, 43.34it/s]\u001b[A\n",
      "Validation DataLoader 0:  91%|██████████████▍ | 288/318 [00:06<00:00, 43.34it/s]\u001b[A\n"
     ]
    },
    {
     "name": "stdout",
     "output_type": "stream",
     "text": [
      "Validation DataLoader 0:  91%|██████████████▌ | 289/318 [00:06<00:00, 43.36it/s]\u001b[A\n",
      "Validation DataLoader 0:  91%|██████████████▌ | 290/318 [00:06<00:00, 43.37it/s]\u001b[A\n",
      "Validation DataLoader 0:  92%|██████████████▋ | 291/318 [00:06<00:00, 43.36it/s]\u001b[A\n",
      "Validation DataLoader 0:  92%|██████████████▋ | 292/318 [00:06<00:00, 43.38it/s]\u001b[A\n",
      "Validation DataLoader 0:  92%|██████████████▋ | 293/318 [00:06<00:00, 43.40it/s]\u001b[A\n",
      "Validation DataLoader 0:  92%|██████████████▊ | 294/318 [00:06<00:00, 43.41it/s]\u001b[A\n",
      "Validation DataLoader 0:  93%|██████████████▊ | 295/318 [00:06<00:00, 43.41it/s]\u001b[A\n",
      "Validation DataLoader 0:  93%|██████████████▉ | 296/318 [00:06<00:00, 43.42it/s]\u001b[A\n",
      "Validation DataLoader 0:  93%|██████████████▉ | 297/318 [00:06<00:00, 43.43it/s]\u001b[A\n",
      "Validation DataLoader 0:  94%|██████████████▉ | 298/318 [00:06<00:00, 43.43it/s]\u001b[A\n",
      "Validation DataLoader 0:  94%|███████████████ | 299/318 [00:06<00:00, 43.43it/s]\u001b[A\n",
      "Validation DataLoader 0:  94%|███████████████ | 300/318 [00:06<00:00, 43.46it/s]\u001b[A\n",
      "Validation DataLoader 0:  95%|███████████████▏| 301/318 [00:06<00:00, 43.46it/s]\u001b[A\n",
      "Validation DataLoader 0:  95%|███████████████▏| 302/318 [00:06<00:00, 43.48it/s]\u001b[A\n",
      "Validation DataLoader 0:  95%|███████████████▏| 303/318 [00:06<00:00, 43.44it/s]\u001b[A\n",
      "Validation DataLoader 0:  96%|███████████████▎| 304/318 [00:06<00:00, 43.45it/s]\u001b[A\n",
      "Validation DataLoader 0:  96%|███████████████▎| 305/318 [00:07<00:00, 43.47it/s]\u001b[A\n",
      "Validation DataLoader 0:  96%|███████████████▍| 306/318 [00:07<00:00, 43.50it/s]\u001b[A\n",
      "Validation DataLoader 0:  97%|███████████████▍| 307/318 [00:07<00:00, 43.51it/s]\u001b[A\n",
      "Validation DataLoader 0:  97%|███████████████▍| 308/318 [00:07<00:00, 43.52it/s]\u001b[A\n",
      "Validation DataLoader 0:  97%|███████████████▌| 309/318 [00:07<00:00, 43.54it/s]\u001b[A\n",
      "Validation DataLoader 0:  97%|███████████████▌| 310/318 [00:07<00:00, 43.55it/s]\u001b[A\n",
      "Validation DataLoader 0:  98%|███████████████▋| 311/318 [00:07<00:00, 43.57it/s]\u001b[A\n",
      "Validation DataLoader 0:  98%|███████████████▋| 312/318 [00:07<00:00, 43.58it/s]\u001b[A\n",
      "Validation DataLoader 0:  98%|███████████████▋| 313/318 [00:07<00:00, 43.59it/s]\u001b[A\n",
      "Validation DataLoader 0:  99%|███████████████▊| 314/318 [00:07<00:00, 43.61it/s]\u001b[A\n",
      "Validation DataLoader 0:  99%|███████████████▊| 315/318 [00:07<00:00, 43.61it/s]\u001b[A\n",
      "Validation DataLoader 0:  99%|███████████████▉| 316/318 [00:07<00:00, 43.62it/s]\u001b[A\n",
      "Validation DataLoader 0: 100%|███████████████▉| 317/318 [00:07<00:00, 43.54it/s]\u001b[A\n",
      "Epoch 0: 100%|█| 951/951 [00:42<00:00, 22.28it/s, v_num=366, train_loss_step=0.2\u001b[A\n",
      "Epoch 0: 100%|█| 951/951 [00:42<00:00, 22.28it/s, v_num=366, train_loss_step=0.2\u001b[A"
     ]
    },
    {
     "name": "stderr",
     "output_type": "stream",
     "text": [
      "`Trainer.fit` stopped: `max_epochs=1` reached.\n"
     ]
    },
    {
     "name": "stdout",
     "output_type": "stream",
     "text": [
      "Epoch 0: 100%|█| 951/951 [00:43<00:00, 22.11it/s, v_num=366, train_loss_step=0.2\n"
     ]
    }
   ],
   "source": [
    "# fit network\n",
    "trainer.fit(\n",
    "    tft,\n",
    "    train_dataloaders=train_dataloader,\n",
    "    val_dataloaders=val_dataloader,\n",
    ")"
   ]
  },
  {
   "cell_type": "markdown",
   "id": "2daff83b",
   "metadata": {},
   "source": [
    "### Inferenz \n",
    "\n",
    "- wähle user=953596, da er 10 konsekutive timesteps hat\n",
    "- schreibe wrapper für tft in sklearn Schreibweise, damit shap library ihn annimmt."
   ]
  },
  {
   "cell_type": "code",
   "execution_count": 34,
   "id": "05f85fe6",
   "metadata": {},
   "outputs": [
    {
     "data": {
      "text/plain": [
       "user\n",
       "953596    11\n",
       "Name: count, dtype: int64"
      ]
     },
     "execution_count": 34,
     "metadata": {},
     "output_type": "execute_result"
    }
   ],
   "source": [
    "df['user'].value_counts().head(1)"
   ]
  },
  {
   "cell_type": "code",
   "execution_count": 35,
   "id": "3209093b",
   "metadata": {},
   "outputs": [],
   "source": [
    "df_test = df[df['user']==953596]"
   ]
  },
  {
   "cell_type": "code",
   "execution_count": 36,
   "id": "2d669fc0",
   "metadata": {},
   "outputs": [
    {
     "data": {
      "text/html": [
       "<div>\n",
       "<style scoped>\n",
       "    .dataframe tbody tr th:only-of-type {\n",
       "        vertical-align: middle;\n",
       "    }\n",
       "\n",
       "    .dataframe tbody tr th {\n",
       "        vertical-align: top;\n",
       "    }\n",
       "\n",
       "    .dataframe thead th {\n",
       "        text-align: right;\n",
       "    }\n",
       "</style>\n",
       "<table border=\"1\" class=\"dataframe\">\n",
       "  <thead>\n",
       "    <tr style=\"text-align: right;\">\n",
       "      <th></th>\n",
       "      <th>user</th>\n",
       "      <th>age_level</th>\n",
       "      <th>brand</th>\n",
       "      <th>click</th>\n",
       "      <th>time_stamp</th>\n",
       "      <th>time_idx</th>\n",
       "    </tr>\n",
       "  </thead>\n",
       "  <tbody>\n",
       "    <tr>\n",
       "      <th>15661</th>\n",
       "      <td>953596</td>\n",
       "      <td>5</td>\n",
       "      <td>nike</td>\n",
       "      <td>1</td>\n",
       "      <td>2017-05-06 03:44:20</td>\n",
       "      <td>0</td>\n",
       "    </tr>\n",
       "    <tr>\n",
       "      <th>15662</th>\n",
       "      <td>953596</td>\n",
       "      <td>5</td>\n",
       "      <td>nike</td>\n",
       "      <td>0</td>\n",
       "      <td>2017-05-06 03:44:20</td>\n",
       "      <td>1</td>\n",
       "    </tr>\n",
       "    <tr>\n",
       "      <th>15663</th>\n",
       "      <td>953596</td>\n",
       "      <td>5</td>\n",
       "      <td>nike</td>\n",
       "      <td>0</td>\n",
       "      <td>2017-05-07 11:37:46</td>\n",
       "      <td>2</td>\n",
       "    </tr>\n",
       "    <tr>\n",
       "      <th>15664</th>\n",
       "      <td>953596</td>\n",
       "      <td>5</td>\n",
       "      <td>nike</td>\n",
       "      <td>0</td>\n",
       "      <td>2017-05-07 11:37:46</td>\n",
       "      <td>3</td>\n",
       "    </tr>\n",
       "    <tr>\n",
       "      <th>15665</th>\n",
       "      <td>953596</td>\n",
       "      <td>5</td>\n",
       "      <td>nike</td>\n",
       "      <td>0</td>\n",
       "      <td>2017-05-07 11:37:46</td>\n",
       "      <td>4</td>\n",
       "    </tr>\n",
       "    <tr>\n",
       "      <th>15666</th>\n",
       "      <td>953596</td>\n",
       "      <td>5</td>\n",
       "      <td>nike</td>\n",
       "      <td>0</td>\n",
       "      <td>2017-05-08 12:40:24</td>\n",
       "      <td>5</td>\n",
       "    </tr>\n",
       "    <tr>\n",
       "      <th>15667</th>\n",
       "      <td>953596</td>\n",
       "      <td>5</td>\n",
       "      <td>nike</td>\n",
       "      <td>0</td>\n",
       "      <td>2017-05-08 12:40:24</td>\n",
       "      <td>6</td>\n",
       "    </tr>\n",
       "    <tr>\n",
       "      <th>15668</th>\n",
       "      <td>953596</td>\n",
       "      <td>5</td>\n",
       "      <td>nike</td>\n",
       "      <td>0</td>\n",
       "      <td>2017-05-08 12:40:24</td>\n",
       "      <td>7</td>\n",
       "    </tr>\n",
       "    <tr>\n",
       "      <th>15669</th>\n",
       "      <td>953596</td>\n",
       "      <td>5</td>\n",
       "      <td>nike</td>\n",
       "      <td>0</td>\n",
       "      <td>2017-05-13 05:41:13</td>\n",
       "      <td>8</td>\n",
       "    </tr>\n",
       "    <tr>\n",
       "      <th>15670</th>\n",
       "      <td>953596</td>\n",
       "      <td>5</td>\n",
       "      <td>nike</td>\n",
       "      <td>0</td>\n",
       "      <td>2017-05-13 05:41:13</td>\n",
       "      <td>9</td>\n",
       "    </tr>\n",
       "    <tr>\n",
       "      <th>15671</th>\n",
       "      <td>953596</td>\n",
       "      <td>5</td>\n",
       "      <td>nike</td>\n",
       "      <td>0</td>\n",
       "      <td>2017-05-13 05:41:13</td>\n",
       "      <td>10</td>\n",
       "    </tr>\n",
       "  </tbody>\n",
       "</table>\n",
       "</div>"
      ],
      "text/plain": [
       "         user age_level brand click           time_stamp  time_idx\n",
       "15661  953596         5  nike     1  2017-05-06 03:44:20         0\n",
       "15662  953596         5  nike     0  2017-05-06 03:44:20         1\n",
       "15663  953596         5  nike     0  2017-05-07 11:37:46         2\n",
       "15664  953596         5  nike     0  2017-05-07 11:37:46         3\n",
       "15665  953596         5  nike     0  2017-05-07 11:37:46         4\n",
       "15666  953596         5  nike     0  2017-05-08 12:40:24         5\n",
       "15667  953596         5  nike     0  2017-05-08 12:40:24         6\n",
       "15668  953596         5  nike     0  2017-05-08 12:40:24         7\n",
       "15669  953596         5  nike     0  2017-05-13 05:41:13         8\n",
       "15670  953596         5  nike     0  2017-05-13 05:41:13         9\n",
       "15671  953596         5  nike     0  2017-05-13 05:41:13        10"
      ]
     },
     "execution_count": 36,
     "metadata": {},
     "output_type": "execute_result"
    }
   ],
   "source": [
    "df_test"
   ]
  },
  {
   "cell_type": "code",
   "execution_count": 60,
   "id": "afa11273",
   "metadata": {},
   "outputs": [],
   "source": [
    "#Hilfsmethode um Code in Wrapper übersichtlich zu halten\n",
    "def get_tsds(df):\n",
    "    return TimeSeriesDataSet(\n",
    "    df[lambda x: x.time_idx <= 10],\n",
    "    time_idx=\"time_idx\",\n",
    "    target=\"click\",\n",
    "    group_ids=[\"user\"],\n",
    "    \n",
    "    min_encoder_length=0,  # keep encoder length long (as it is in the validation set)\n",
    "    max_encoder_length=10,\n",
    "    min_prediction_length=1,\n",
    "    max_prediction_length=1,\n",
    "    \n",
    "    static_categoricals=[\"age_level\"],\n",
    "    time_varying_known_categoricals=[\"brand\"],\n",
    "    time_varying_known_reals=[\"time_idx\"],\n",
    "    time_varying_unknown_categoricals=[\"click\"],\n",
    "\n",
    "    add_relative_time_idx=True,\n",
    "    add_target_scales=False,\n",
    "    add_encoder_length=True,\n",
    "    \n",
    "    allow_missing_timesteps=True,\n",
    "        \n",
    "        \n",
    "        \n",
    "    # WICHTIG!!!    \n",
    "    predict_mode=True\n",
    ")"
   ]
  },
  {
   "cell_type": "code",
   "execution_count": 61,
   "id": "092eab70",
   "metadata": {},
   "outputs": [],
   "source": [
    "class Custom_TFT():\n",
    "    \n",
    "    def __init__(self,tft,df):\n",
    "        self.tft = tft\n",
    "        self.columns = df.columns\n",
    "        self.dtypes = df.dtypes\n",
    "    \n",
    "    def fit(self):\n",
    "        pass\n",
    "    \n",
    "    \n",
    "    def predict(self, X_arr) -> np.ndarray:\n",
    "        \n",
    "        #print(type(df))\n",
    "        #print(df)\n",
    "        df = pd.DataFrame(X_arr,columns=self.columns).astype(self.dtypes)\n",
    "        print(\"***NEW CALL**\")\n",
    "        print(df)\n",
    "        tsds = get_tsds(df)\n",
    "        \n",
    "        \n",
    "        \n",
    "        preds = tft.predict(tsds, mode=\"raw\", return_x=False).prediction.flatten().numpy()\n",
    "        #TODO: überführe preds in ein numpy array\n",
    "        #return preds\n",
    "        return np.array([0,0,0,0,0,0,0,0,0,0,0])\n",
    "    \n",
    "    def predict_proba(self, df) -> np.ndarray:\n",
    "        #TODO: checke ob probabilities übereinstimmen mit prediction! -> passt\n",
    "        tsds = get_tsds(df)\n",
    "        probabilities = Softmax(dim=2)(tft.predict(tsds, mode=\"raw\", return_x=False).prediction).flatten().numpy()\n",
    "        return probabilities\n",
    "    \n"
   ]
  },
  {
   "cell_type": "code",
   "execution_count": 62,
   "id": "d63fc0e6",
   "metadata": {},
   "outputs": [],
   "source": [
    "my_tft = Custom_TFT(tft.predict,df_test)\n"
   ]
  },
  {
   "cell_type": "code",
   "execution_count": 63,
   "id": "938f5278",
   "metadata": {},
   "outputs": [
    {
     "name": "stderr",
     "output_type": "stream",
     "text": [
      "GPU available: False, used: False\n",
      "TPU available: False, using: 0 TPU cores\n",
      "IPU available: False, using: 0 IPUs\n",
      "HPU available: False, using: 0 HPUs\n"
     ]
    },
    {
     "name": "stdout",
     "output_type": "stream",
     "text": [
      "***NEW CALL**\n",
      "      user age_level brand click           time_stamp  time_idx\n",
      "0   953596         5  nike     1  2017-05-06 03:44:20         0\n",
      "1   953596         5  nike     0  2017-05-06 03:44:20         1\n",
      "2   953596         5  nike     0  2017-05-07 11:37:46         2\n",
      "3   953596         5  nike     0  2017-05-07 11:37:46         3\n",
      "4   953596         5  nike     0  2017-05-07 11:37:46         4\n",
      "5   953596         5  nike     0  2017-05-08 12:40:24         5\n",
      "6   953596         5  nike     0  2017-05-08 12:40:24         6\n",
      "7   953596         5  nike     0  2017-05-08 12:40:24         7\n",
      "8   953596         5  nike     0  2017-05-13 05:41:13         8\n",
      "9   953596         5  nike     0  2017-05-13 05:41:13         9\n",
      "10  953596         5  nike     0  2017-05-13 05:41:13        10\n"
     ]
    },
    {
     "name": "stderr",
     "output_type": "stream",
     "text": [
      "The dataloader, predict_dataloader, does not have many workers which may be a bottleneck. Consider increasing the value of the `num_workers` argument` (try 8 which is the number of cpus on this machine) in the `DataLoader` init to improve performance.\n"
     ]
    }
   ],
   "source": [
    "explainer = shap.KernelExplainer(my_tft.predict,df_test)"
   ]
  },
  {
   "cell_type": "markdown",
   "id": "b3098024",
   "metadata": {},
   "source": [
    "**Erklärungen**\n",
    "- shap.KernelExplainer ändert uns den Input von einem pd.Dataframe automatisch auf ein np.array was dann bei predict() ankommt.\n",
    "- TimeSeriesDataset kann nur aus pd.Dataframe erzeugt werden.\n",
    "- unschöner workaround: erzeuge aus dem np.array wieder einen pd.Dataframe indem die columns und dtypes abgespeichert werden  \n",
    "\n",
    "  \n",
    "- tft.predict() liefert 2 probabilities zurück, da es für den letzten timestep predicted und wir 2 Klassen haben.\n",
    "- shap erwartet aber für jede Zeile einen Wert zurück.\n",
    "\n",
    "- workaround um einfach zu testen, wie shap weiter funktioniert -> gebe ein np.array der selben Länge zurück\n",
    "\n",
    "- explainer.shap_values(df_test) erzeugt neuen Dataframe der viel länger ist, da er eine Zeile immer als ein Sample sieht und neue erzeugt. Er ändert dabei auch time_stamp und time_idx. Unsere predict Methode kann dann auf einen solchen DF nicht mehr angewandt werden. \n",
    "\n",
    "\n",
    "**Hauptproblem**: Mismatch, dass im TimeSeriesDataset ein sample 10 Reihen zum encoden und 1 Reihe zum predicten bedeutet und bei Shap bedeutet ein sample eine Reihe.\n"
   ]
  },
  {
   "cell_type": "code",
   "execution_count": 64,
   "id": "4c3675d5",
   "metadata": {},
   "outputs": [
    {
     "name": "stderr",
     "output_type": "stream",
     "text": [
      "\n",
      "  0%|                                                    | 0/11 [00:00<?, ?it/s]\u001b[AGPU available: False, used: False\n",
      "TPU available: False, using: 0 TPU cores\n",
      "IPU available: False, using: 0 IPUs\n",
      "HPU available: False, using: 0 HPUs\n",
      "The dataloader, predict_dataloader, does not have many workers which may be a bottleneck. Consider increasing the value of the `num_workers` argument` (try 8 which is the number of cpus on this machine) in the `DataLoader` init to improve performance.\n",
      "GPU available: False, used: False\n",
      "TPU available: False, using: 0 TPU cores\n",
      "IPU available: False, using: 0 IPUs\n",
      "HPU available: False, using: 0 HPUs\n"
     ]
    },
    {
     "name": "stdout",
     "output_type": "stream",
     "text": [
      "***NEW CALL**\n",
      "     user age_level brand click           time_stamp  time_idx\n",
      "0  953596         5  nike     1  2017-05-06 03:44:20         0\n",
      "***NEW CALL**\n",
      "      user age_level brand click           time_stamp  time_idx\n",
      "0   953596         5  nike     1  2017-05-06 03:44:20         0\n",
      "1   953596         5  nike     1  2017-05-06 03:44:20         1\n",
      "2   953596         5  nike     1  2017-05-07 11:37:46         2\n",
      "3   953596         5  nike     1  2017-05-07 11:37:46         3\n",
      "4   953596         5  nike     1  2017-05-07 11:37:46         4\n",
      "..     ...       ...   ...   ...                  ...       ...\n",
      "61  953596         5  nike     1  2017-05-06 03:44:20         6\n",
      "62  953596         5  nike     1  2017-05-06 03:44:20         7\n",
      "63  953596         5  nike     1  2017-05-06 03:44:20         8\n",
      "64  953596         5  nike     1  2017-05-06 03:44:20         9\n",
      "65  953596         5  nike     1  2017-05-06 03:44:20        10\n",
      "\n",
      "[66 rows x 6 columns]\n"
     ]
    },
    {
     "name": "stderr",
     "output_type": "stream",
     "text": [
      "The dataloader, predict_dataloader, does not have many workers which may be a bottleneck. Consider increasing the value of the `num_workers` argument` (try 8 which is the number of cpus on this machine) in the `DataLoader` init to improve performance.\n",
      "  0%|                                                    | 0/11 [00:00<?, ?it/s]\n"
     ]
    },
    {
     "ename": "ValueError",
     "evalue": "cannot reshape array of size 11 into shape (66,1)",
     "output_type": "error",
     "traceback": [
      "\u001b[0;31m---------------------------------------------------------------------------\u001b[0m",
      "\u001b[0;31mValueError\u001b[0m                                Traceback (most recent call last)",
      "Cell \u001b[0;32mIn[64], line 1\u001b[0m\n\u001b[0;32m----> 1\u001b[0m \u001b[43mexplainer\u001b[49m\u001b[38;5;241;43m.\u001b[39;49m\u001b[43mshap_values\u001b[49m\u001b[43m(\u001b[49m\u001b[43mdf_test\u001b[49m\u001b[43m)\u001b[49m\n",
      "File \u001b[0;32m~/Desktop/Shap4TS/shapvenv/lib/python3.10/site-packages/shap/explainers/_kernel.py:190\u001b[0m, in \u001b[0;36mKernel.shap_values\u001b[0;34m(self, X, **kwargs)\u001b[0m\n\u001b[1;32m    188\u001b[0m \u001b[38;5;28;01mif\u001b[39;00m \u001b[38;5;28mself\u001b[39m\u001b[38;5;241m.\u001b[39mkeep_index:\n\u001b[1;32m    189\u001b[0m     data \u001b[38;5;241m=\u001b[39m convert_to_instance_with_index(data, column_name, index_value[i:i \u001b[38;5;241m+\u001b[39m \u001b[38;5;241m1\u001b[39m], index_name)\n\u001b[0;32m--> 190\u001b[0m explanations\u001b[38;5;241m.\u001b[39mappend(\u001b[38;5;28;43mself\u001b[39;49m\u001b[38;5;241;43m.\u001b[39;49m\u001b[43mexplain\u001b[49m\u001b[43m(\u001b[49m\u001b[43mdata\u001b[49m\u001b[43m,\u001b[49m\u001b[43m \u001b[49m\u001b[38;5;241;43m*\u001b[39;49m\u001b[38;5;241;43m*\u001b[39;49m\u001b[43mkwargs\u001b[49m\u001b[43m)\u001b[49m)\n\u001b[1;32m    191\u001b[0m \u001b[38;5;28;01mif\u001b[39;00m kwargs\u001b[38;5;241m.\u001b[39mget(\u001b[38;5;124m\"\u001b[39m\u001b[38;5;124mgc_collect\u001b[39m\u001b[38;5;124m\"\u001b[39m, \u001b[38;5;28;01mFalse\u001b[39;00m):\n\u001b[1;32m    192\u001b[0m     gc\u001b[38;5;241m.\u001b[39mcollect()\n",
      "File \u001b[0;32m~/Desktop/Shap4TS/shapvenv/lib/python3.10/site-packages/shap/explainers/_kernel.py:382\u001b[0m, in \u001b[0;36mKernel.explain\u001b[0;34m(self, incoming_instance, **kwargs)\u001b[0m\n\u001b[1;32m    379\u001b[0m     \u001b[38;5;28mself\u001b[39m\u001b[38;5;241m.\u001b[39mkernelWeights[nfixed_samples:] \u001b[38;5;241m*\u001b[39m\u001b[38;5;241m=\u001b[39m weight_left \u001b[38;5;241m/\u001b[39m \u001b[38;5;28mself\u001b[39m\u001b[38;5;241m.\u001b[39mkernelWeights[nfixed_samples:]\u001b[38;5;241m.\u001b[39msum()\n\u001b[1;32m    381\u001b[0m \u001b[38;5;66;03m# execute the model on the synthetic samples we have created\u001b[39;00m\n\u001b[0;32m--> 382\u001b[0m \u001b[38;5;28;43mself\u001b[39;49m\u001b[38;5;241;43m.\u001b[39;49m\u001b[43mrun\u001b[49m\u001b[43m(\u001b[49m\u001b[43m)\u001b[49m\n\u001b[1;32m    384\u001b[0m \u001b[38;5;66;03m# solve then expand the feature importance (Shapley value) vector to contain the non-varying features\u001b[39;00m\n\u001b[1;32m    385\u001b[0m phi \u001b[38;5;241m=\u001b[39m np\u001b[38;5;241m.\u001b[39mzeros((\u001b[38;5;28mself\u001b[39m\u001b[38;5;241m.\u001b[39mdata\u001b[38;5;241m.\u001b[39mgroups_size, \u001b[38;5;28mself\u001b[39m\u001b[38;5;241m.\u001b[39mD))\n",
      "File \u001b[0;32m~/Desktop/Shap4TS/shapvenv/lib/python3.10/site-packages/shap/explainers/_kernel.py:524\u001b[0m, in \u001b[0;36mKernel.run\u001b[0;34m(self)\u001b[0m\n\u001b[1;32m    522\u001b[0m \u001b[38;5;28;01mif\u001b[39;00m \u001b[38;5;28misinstance\u001b[39m(modelOut, (pd\u001b[38;5;241m.\u001b[39mDataFrame, pd\u001b[38;5;241m.\u001b[39mSeries)):\n\u001b[1;32m    523\u001b[0m     modelOut \u001b[38;5;241m=\u001b[39m modelOut\u001b[38;5;241m.\u001b[39mvalues\n\u001b[0;32m--> 524\u001b[0m \u001b[38;5;28mself\u001b[39m\u001b[38;5;241m.\u001b[39my[\u001b[38;5;28mself\u001b[39m\u001b[38;5;241m.\u001b[39mnsamplesRun \u001b[38;5;241m*\u001b[39m \u001b[38;5;28mself\u001b[39m\u001b[38;5;241m.\u001b[39mN:\u001b[38;5;28mself\u001b[39m\u001b[38;5;241m.\u001b[39mnsamplesAdded \u001b[38;5;241m*\u001b[39m \u001b[38;5;28mself\u001b[39m\u001b[38;5;241m.\u001b[39mN, :] \u001b[38;5;241m=\u001b[39m \u001b[43mnp\u001b[49m\u001b[38;5;241;43m.\u001b[39;49m\u001b[43mreshape\u001b[49m\u001b[43m(\u001b[49m\u001b[43mmodelOut\u001b[49m\u001b[43m,\u001b[49m\u001b[43m \u001b[49m\u001b[43m(\u001b[49m\u001b[43mnum_to_run\u001b[49m\u001b[43m,\u001b[49m\u001b[43m \u001b[49m\u001b[38;5;28;43mself\u001b[39;49m\u001b[38;5;241;43m.\u001b[39;49m\u001b[43mD\u001b[49m\u001b[43m)\u001b[49m\u001b[43m)\u001b[49m\n\u001b[1;32m    526\u001b[0m \u001b[38;5;66;03m# find the expected value of each output\u001b[39;00m\n\u001b[1;32m    527\u001b[0m \u001b[38;5;28;01mfor\u001b[39;00m i \u001b[38;5;129;01min\u001b[39;00m \u001b[38;5;28mrange\u001b[39m(\u001b[38;5;28mself\u001b[39m\u001b[38;5;241m.\u001b[39mnsamplesRun, \u001b[38;5;28mself\u001b[39m\u001b[38;5;241m.\u001b[39mnsamplesAdded):\n",
      "File \u001b[0;32m<__array_function__ internals>:180\u001b[0m, in \u001b[0;36mreshape\u001b[0;34m(*args, **kwargs)\u001b[0m\n",
      "File \u001b[0;32m~/Desktop/Shap4TS/shapvenv/lib/python3.10/site-packages/numpy/core/fromnumeric.py:298\u001b[0m, in \u001b[0;36mreshape\u001b[0;34m(a, newshape, order)\u001b[0m\n\u001b[1;32m    198\u001b[0m \u001b[38;5;129m@array_function_dispatch\u001b[39m(_reshape_dispatcher)\n\u001b[1;32m    199\u001b[0m \u001b[38;5;28;01mdef\u001b[39;00m \u001b[38;5;21mreshape\u001b[39m(a, newshape, order\u001b[38;5;241m=\u001b[39m\u001b[38;5;124m'\u001b[39m\u001b[38;5;124mC\u001b[39m\u001b[38;5;124m'\u001b[39m):\n\u001b[1;32m    200\u001b[0m \u001b[38;5;250m    \u001b[39m\u001b[38;5;124;03m\"\"\"\u001b[39;00m\n\u001b[1;32m    201\u001b[0m \u001b[38;5;124;03m    Gives a new shape to an array without changing its data.\u001b[39;00m\n\u001b[1;32m    202\u001b[0m \n\u001b[0;32m   (...)\u001b[0m\n\u001b[1;32m    296\u001b[0m \u001b[38;5;124;03m           [5, 6]])\u001b[39;00m\n\u001b[1;32m    297\u001b[0m \u001b[38;5;124;03m    \"\"\"\u001b[39;00m\n\u001b[0;32m--> 298\u001b[0m     \u001b[38;5;28;01mreturn\u001b[39;00m \u001b[43m_wrapfunc\u001b[49m\u001b[43m(\u001b[49m\u001b[43ma\u001b[49m\u001b[43m,\u001b[49m\u001b[43m \u001b[49m\u001b[38;5;124;43m'\u001b[39;49m\u001b[38;5;124;43mreshape\u001b[39;49m\u001b[38;5;124;43m'\u001b[39;49m\u001b[43m,\u001b[49m\u001b[43m \u001b[49m\u001b[43mnewshape\u001b[49m\u001b[43m,\u001b[49m\u001b[43m \u001b[49m\u001b[43morder\u001b[49m\u001b[38;5;241;43m=\u001b[39;49m\u001b[43morder\u001b[49m\u001b[43m)\u001b[49m\n",
      "File \u001b[0;32m~/Desktop/Shap4TS/shapvenv/lib/python3.10/site-packages/numpy/core/fromnumeric.py:57\u001b[0m, in \u001b[0;36m_wrapfunc\u001b[0;34m(obj, method, *args, **kwds)\u001b[0m\n\u001b[1;32m     54\u001b[0m     \u001b[38;5;28;01mreturn\u001b[39;00m _wrapit(obj, method, \u001b[38;5;241m*\u001b[39margs, \u001b[38;5;241m*\u001b[39m\u001b[38;5;241m*\u001b[39mkwds)\n\u001b[1;32m     56\u001b[0m \u001b[38;5;28;01mtry\u001b[39;00m:\n\u001b[0;32m---> 57\u001b[0m     \u001b[38;5;28;01mreturn\u001b[39;00m \u001b[43mbound\u001b[49m\u001b[43m(\u001b[49m\u001b[38;5;241;43m*\u001b[39;49m\u001b[43margs\u001b[49m\u001b[43m,\u001b[49m\u001b[43m \u001b[49m\u001b[38;5;241;43m*\u001b[39;49m\u001b[38;5;241;43m*\u001b[39;49m\u001b[43mkwds\u001b[49m\u001b[43m)\u001b[49m\n\u001b[1;32m     58\u001b[0m \u001b[38;5;28;01mexcept\u001b[39;00m \u001b[38;5;167;01mTypeError\u001b[39;00m:\n\u001b[1;32m     59\u001b[0m     \u001b[38;5;66;03m# A TypeError occurs if the object does have such a method in its\u001b[39;00m\n\u001b[1;32m     60\u001b[0m     \u001b[38;5;66;03m# class, but its signature is not identical to that of NumPy's. This\u001b[39;00m\n\u001b[0;32m   (...)\u001b[0m\n\u001b[1;32m     64\u001b[0m     \u001b[38;5;66;03m# Call _wrapit from within the except clause to ensure a potential\u001b[39;00m\n\u001b[1;32m     65\u001b[0m     \u001b[38;5;66;03m# exception has a traceback chain.\u001b[39;00m\n\u001b[1;32m     66\u001b[0m     \u001b[38;5;28;01mreturn\u001b[39;00m _wrapit(obj, method, \u001b[38;5;241m*\u001b[39margs, \u001b[38;5;241m*\u001b[39m\u001b[38;5;241m*\u001b[39mkwds)\n",
      "\u001b[0;31mValueError\u001b[0m: cannot reshape array of size 11 into shape (66,1)"
     ]
    }
   ],
   "source": [
    "explainer.shap_values(df_test)"
   ]
  },
  {
   "cell_type": "code",
   "execution_count": null,
   "id": "4c02b452",
   "metadata": {},
   "outputs": [],
   "source": []
  },
  {
   "cell_type": "code",
   "execution_count": null,
   "id": "f4a793ae",
   "metadata": {},
   "outputs": [],
   "source": []
  },
  {
   "cell_type": "code",
   "execution_count": null,
   "id": "b0f00b87",
   "metadata": {},
   "outputs": [],
   "source": []
  }
 ],
 "metadata": {
  "kernelspec": {
   "display_name": "shapvenv",
   "language": "python",
   "name": "shapvenv"
  },
  "language_info": {
   "codemirror_mode": {
    "name": "ipython",
    "version": 3
   },
   "file_extension": ".py",
   "mimetype": "text/x-python",
   "name": "python",
   "nbconvert_exporter": "python",
   "pygments_lexer": "ipython3",
   "version": "3.10.2"
  }
 },
 "nbformat": 4,
 "nbformat_minor": 5
}
